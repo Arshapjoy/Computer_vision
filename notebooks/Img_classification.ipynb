{
  "nbformat": 4,
  "nbformat_minor": 0,
  "metadata": {
    "colab": {
      "provenance": [],
      "gpuType": "T4",
      "mount_file_id": "183AihpeNGHQY4IAelmxo7UctDqkTwzU_",
      "authorship_tag": "ABX9TyPBKDF3yf8rjS4oNVwb3noy",
      "include_colab_link": true
    },
    "kernelspec": {
      "name": "python3",
      "display_name": "Python 3"
    },
    "language_info": {
      "name": "python"
    },
    "accelerator": "GPU"
  },
  "cells": [
    {
      "cell_type": "markdown",
      "metadata": {
        "id": "view-in-github",
        "colab_type": "text"
      },
      "source": [
        "<a href=\"https://colab.research.google.com/github/Arshapjoy/Computer_vision/blob/main/notebooks/Img_classification.ipynb\" target=\"_parent\"><img src=\"https://colab.research.google.com/assets/colab-badge.svg\" alt=\"Open In Colab\"/></a>"
      ]
    },
    {
      "cell_type": "code",
      "execution_count": 1,
      "metadata": {
        "colab": {
          "base_uri": "https://localhost:8080/"
        },
        "id": "czAv20S2KA5U",
        "outputId": "82cfca42-54c5-49cc-8f01-b527ef6f711f"
      },
      "outputs": [
        {
          "output_type": "stream",
          "name": "stdout",
          "text": [
            "Tue Apr  2 06:52:04 2024       \n",
            "+---------------------------------------------------------------------------------------+\n",
            "| NVIDIA-SMI 535.104.05             Driver Version: 535.104.05   CUDA Version: 12.2     |\n",
            "|-----------------------------------------+----------------------+----------------------+\n",
            "| GPU  Name                 Persistence-M | Bus-Id        Disp.A | Volatile Uncorr. ECC |\n",
            "| Fan  Temp   Perf          Pwr:Usage/Cap |         Memory-Usage | GPU-Util  Compute M. |\n",
            "|                                         |                      |               MIG M. |\n",
            "|=========================================+======================+======================|\n",
            "|   0  Tesla T4                       Off | 00000000:00:04.0 Off |                    0 |\n",
            "| N/A   68C    P8              13W /  70W |      0MiB / 15360MiB |      0%      Default |\n",
            "|                                         |                      |                  N/A |\n",
            "+-----------------------------------------+----------------------+----------------------+\n",
            "                                                                                         \n",
            "+---------------------------------------------------------------------------------------+\n",
            "| Processes:                                                                            |\n",
            "|  GPU   GI   CI        PID   Type   Process name                            GPU Memory |\n",
            "|        ID   ID                                                             Usage      |\n",
            "|=======================================================================================|\n",
            "|  No running processes found                                                           |\n",
            "+---------------------------------------------------------------------------------------+\n"
          ]
        }
      ],
      "source": [
        "!nvidia-smi  #checking gpu"
      ]
    },
    {
      "cell_type": "code",
      "source": [
        "import tensorflow as tf"
      ],
      "metadata": {
        "id": "P2Re9TkRKrub"
      },
      "execution_count": 2,
      "outputs": []
    },
    {
      "cell_type": "code",
      "source": [
        "tf.__version__"
      ],
      "metadata": {
        "colab": {
          "base_uri": "https://localhost:8080/",
          "height": 36
        },
        "id": "qu5w02sGK1p2",
        "outputId": "3dad0af0-b7ee-4c5a-b1b8-9e08d92785e4"
      },
      "execution_count": 3,
      "outputs": [
        {
          "output_type": "execute_result",
          "data": {
            "text/plain": [
              "'2.15.0'"
            ],
            "application/vnd.google.colaboratory.intrinsic+json": {
              "type": "string"
            }
          },
          "metadata": {},
          "execution_count": 3
        }
      ]
    },
    {
      "cell_type": "code",
      "source": [
        "import keras"
      ],
      "metadata": {
        "id": "tTJolP4dLv64"
      },
      "execution_count": 4,
      "outputs": []
    },
    {
      "cell_type": "code",
      "source": [
        "keras.__version__"
      ],
      "metadata": {
        "colab": {
          "base_uri": "https://localhost:8080/",
          "height": 36
        },
        "id": "lmIzxrjCLVdg",
        "outputId": "275628aa-36e3-448a-c69d-f4d62c4f834e"
      },
      "execution_count": 5,
      "outputs": [
        {
          "output_type": "execute_result",
          "data": {
            "text/plain": [
              "'2.15.0'"
            ],
            "application/vnd.google.colaboratory.intrinsic+json": {
              "type": "string"
            }
          },
          "metadata": {},
          "execution_count": 5
        }
      ]
    },
    {
      "cell_type": "code",
      "source": [
        "%pwd"
      ],
      "metadata": {
        "colab": {
          "base_uri": "https://localhost:8080/",
          "height": 36
        },
        "id": "LCnrWp43YwjJ",
        "outputId": "2e285bc1-da6b-401f-81a1-61c06970ef18"
      },
      "execution_count": 6,
      "outputs": [
        {
          "output_type": "execute_result",
          "data": {
            "text/plain": [
              "'/content'"
            ],
            "application/vnd.google.colaboratory.intrinsic+json": {
              "type": "string"
            }
          },
          "metadata": {},
          "execution_count": 6
        }
      ]
    },
    {
      "cell_type": "code",
      "source": [
        "%cd /content/drive/MyDrive/data/Data"
      ],
      "metadata": {
        "colab": {
          "base_uri": "https://localhost:8080/"
        },
        "id": "wYppK83jLYLF",
        "outputId": "4433ee97-30a4-45a1-e965-4a6da5cd5a1a"
      },
      "execution_count": 7,
      "outputs": [
        {
          "output_type": "stream",
          "name": "stdout",
          "text": [
            "/content/drive/MyDrive/data/Data\n"
          ]
        }
      ]
    },
    {
      "cell_type": "code",
      "source": [
        "%pwd"
      ],
      "metadata": {
        "colab": {
          "base_uri": "https://localhost:8080/",
          "height": 36
        },
        "id": "sRZl2KzTYtdu",
        "outputId": "f0a75f47-6cb8-417a-abfd-8fdc6a8106ce"
      },
      "execution_count": 8,
      "outputs": [
        {
          "output_type": "execute_result",
          "data": {
            "text/plain": [
              "'/content/drive/MyDrive/data/Data'"
            ],
            "application/vnd.google.colaboratory.intrinsic+json": {
              "type": "string"
            }
          },
          "metadata": {},
          "execution_count": 8
        }
      ]
    },
    {
      "cell_type": "code",
      "source": [
        "%ls"
      ],
      "metadata": {
        "colab": {
          "base_uri": "https://localhost:8080/"
        },
        "id": "ptF6sCPoZCvq",
        "outputId": "5e636a6a-f744-4cf2-9ec9-b17d2c03cbe7"
      },
      "execution_count": 9,
      "outputs": [
        {
          "output_type": "stream",
          "name": "stdout",
          "text": [
            "\u001b[0m\u001b[01;34mtrain\u001b[0m/  \u001b[01;34mvalidation\u001b[0m/\n"
          ]
        }
      ]
    },
    {
      "cell_type": "code",
      "source": [
        "!unzip Data.zip"
      ],
      "metadata": {
        "colab": {
          "base_uri": "https://localhost:8080/"
        },
        "id": "CMnIBGfMZF6l",
        "outputId": "d2b08432-074e-461a-bc6b-30cd4b5b1fc9"
      },
      "execution_count": 10,
      "outputs": [
        {
          "output_type": "stream",
          "name": "stdout",
          "text": [
            "unzip:  cannot find or open Data.zip, Data.zip.zip or Data.zip.ZIP.\n"
          ]
        }
      ]
    },
    {
      "cell_type": "code",
      "source": [
        "%ls"
      ],
      "metadata": {
        "colab": {
          "base_uri": "https://localhost:8080/"
        },
        "id": "G5m7lykGZNMM",
        "outputId": "039be705-d3b3-4328-a9e9-a8a441a8743f"
      },
      "execution_count": 11,
      "outputs": [
        {
          "output_type": "stream",
          "name": "stdout",
          "text": [
            "\u001b[0m\u001b[01;34mtrain\u001b[0m/  \u001b[01;34mvalidation\u001b[0m/\n"
          ]
        }
      ]
    },
    {
      "cell_type": "code",
      "source": [
        "#importing libraries and packages\n",
        "from tensorflow.keras.layers import Input, Lambda, Dense, Flatten\n",
        "from tensorflow.keras.models import Model\n",
        "from tensorflow.keras.applications.vgg16 import VGG16\n",
        "from tensorflow.keras.preprocessing import image\n",
        "from tensorflow.keras.preprocessing.image import ImageDataGenerator, load_img\n",
        "from tensorflow.keras.models import Sequential\n",
        "import numpy as np\n",
        "from glob import glob"
      ],
      "metadata": {
        "id": "xlb_f4fJZZGM"
      },
      "execution_count": 12,
      "outputs": []
    },
    {
      "cell_type": "code",
      "source": [
        "IMAGE_SIZE= [224,224]\n",
        "\n",
        "train_path=\"train\"\n",
        "valid_path=\"validation\"\n"
      ],
      "metadata": {
        "id": "wAXGQqcBc45Z"
      },
      "execution_count": 13,
      "outputs": []
    },
    {
      "cell_type": "code",
      "source": [
        "vgg16=VGG16(input_shape= IMAGE_SIZE+[3], weights=\"imagenet\", include_top=False)"
      ],
      "metadata": {
        "id": "MTtuz3-PfrcJ"
      },
      "execution_count": 14,
      "outputs": []
    },
    {
      "cell_type": "code",
      "source": [
        "for layer in vgg16.layers:\n",
        "  layer.trainable=False"
      ],
      "metadata": {
        "id": "TF1iOO0bgXEn"
      },
      "execution_count": 15,
      "outputs": []
    },
    {
      "cell_type": "code",
      "source": [
        "for layer in vgg16.layers:\n",
        "  print(layer.name, layer.trainable)"
      ],
      "metadata": {
        "colab": {
          "base_uri": "https://localhost:8080/"
        },
        "id": "Na5A0GUBi2OF",
        "outputId": "9a98300f-4b8c-4fd7-d1ca-fde7152192d4"
      },
      "execution_count": 16,
      "outputs": [
        {
          "output_type": "stream",
          "name": "stdout",
          "text": [
            "input_1 False\n",
            "block1_conv1 False\n",
            "block1_conv2 False\n",
            "block1_pool False\n",
            "block2_conv1 False\n",
            "block2_conv2 False\n",
            "block2_pool False\n",
            "block3_conv1 False\n",
            "block3_conv2 False\n",
            "block3_conv3 False\n",
            "block3_pool False\n",
            "block4_conv1 False\n",
            "block4_conv2 False\n",
            "block4_conv3 False\n",
            "block4_pool False\n",
            "block5_conv1 False\n",
            "block5_conv2 False\n",
            "block5_conv3 False\n",
            "block5_pool False\n"
          ]
        }
      ]
    },
    {
      "cell_type": "code",
      "source": [
        "vgg16.summary()"
      ],
      "metadata": {
        "colab": {
          "base_uri": "https://localhost:8080/"
        },
        "id": "cfyhv8CCjII4",
        "outputId": "82e20e74-c46e-4e37-bea7-9acbe3762203"
      },
      "execution_count": 17,
      "outputs": [
        {
          "output_type": "stream",
          "name": "stdout",
          "text": [
            "Model: \"vgg16\"\n",
            "_________________________________________________________________\n",
            " Layer (type)                Output Shape              Param #   \n",
            "=================================================================\n",
            " input_1 (InputLayer)        [(None, 224, 224, 3)]     0         \n",
            "                                                                 \n",
            " block1_conv1 (Conv2D)       (None, 224, 224, 64)      1792      \n",
            "                                                                 \n",
            " block1_conv2 (Conv2D)       (None, 224, 224, 64)      36928     \n",
            "                                                                 \n",
            " block1_pool (MaxPooling2D)  (None, 112, 112, 64)      0         \n",
            "                                                                 \n",
            " block2_conv1 (Conv2D)       (None, 112, 112, 128)     73856     \n",
            "                                                                 \n",
            " block2_conv2 (Conv2D)       (None, 112, 112, 128)     147584    \n",
            "                                                                 \n",
            " block2_pool (MaxPooling2D)  (None, 56, 56, 128)       0         \n",
            "                                                                 \n",
            " block3_conv1 (Conv2D)       (None, 56, 56, 256)       295168    \n",
            "                                                                 \n",
            " block3_conv2 (Conv2D)       (None, 56, 56, 256)       590080    \n",
            "                                                                 \n",
            " block3_conv3 (Conv2D)       (None, 56, 56, 256)       590080    \n",
            "                                                                 \n",
            " block3_pool (MaxPooling2D)  (None, 28, 28, 256)       0         \n",
            "                                                                 \n",
            " block4_conv1 (Conv2D)       (None, 28, 28, 512)       1180160   \n",
            "                                                                 \n",
            " block4_conv2 (Conv2D)       (None, 28, 28, 512)       2359808   \n",
            "                                                                 \n",
            " block4_conv3 (Conv2D)       (None, 28, 28, 512)       2359808   \n",
            "                                                                 \n",
            " block4_pool (MaxPooling2D)  (None, 14, 14, 512)       0         \n",
            "                                                                 \n",
            " block5_conv1 (Conv2D)       (None, 14, 14, 512)       2359808   \n",
            "                                                                 \n",
            " block5_conv2 (Conv2D)       (None, 14, 14, 512)       2359808   \n",
            "                                                                 \n",
            " block5_conv3 (Conv2D)       (None, 14, 14, 512)       2359808   \n",
            "                                                                 \n",
            " block5_pool (MaxPooling2D)  (None, 7, 7, 512)         0         \n",
            "                                                                 \n",
            "=================================================================\n",
            "Total params: 14714688 (56.13 MB)\n",
            "Trainable params: 0 (0.00 Byte)\n",
            "Non-trainable params: 14714688 (56.13 MB)\n",
            "_________________________________________________________________\n"
          ]
        }
      ]
    },
    {
      "cell_type": "code",
      "source": [
        "folder=glob(\"train/*\")"
      ],
      "metadata": {
        "id": "-rj6vNj6jMqU"
      },
      "execution_count": 19,
      "outputs": []
    },
    {
      "cell_type": "code",
      "source": [
        "folder"
      ],
      "metadata": {
        "colab": {
          "base_uri": "https://localhost:8080/"
        },
        "id": "vvh9G2rZltYz",
        "outputId": "6464f6fb-2e96-410d-f15b-19b026c957e2"
      },
      "execution_count": 20,
      "outputs": [
        {
          "output_type": "execute_result",
          "data": {
            "text/plain": [
              "['train/cats', 'train/dogs']"
            ]
          },
          "metadata": {},
          "execution_count": 20
        }
      ]
    },
    {
      "cell_type": "code",
      "source": [
        "len(folder)"
      ],
      "metadata": {
        "colab": {
          "base_uri": "https://localhost:8080/"
        },
        "id": "7zrW8Iqdl2Sc",
        "outputId": "c2ba3419-68bc-444f-d33f-a27f4f768e03"
      },
      "execution_count": 21,
      "outputs": [
        {
          "output_type": "execute_result",
          "data": {
            "text/plain": [
              "2"
            ]
          },
          "metadata": {},
          "execution_count": 21
        }
      ]
    },
    {
      "cell_type": "code",
      "source": [
        "#Adding custom dense layers\n",
        "model=Sequential()\n",
        "model.add(vgg16)\n",
        "model.add(Flatten())\n",
        "model.add(Dense(256, activation='relu'))\n",
        "model.add(Dense(2, activation='softmax'))"
      ],
      "metadata": {
        "id": "5liJyWEWl3xI"
      },
      "execution_count": 23,
      "outputs": []
    },
    {
      "cell_type": "code",
      "source": [
        "model.summary()"
      ],
      "metadata": {
        "colab": {
          "base_uri": "https://localhost:8080/"
        },
        "id": "CYLh3U3vodYR",
        "outputId": "e7c50000-e7cf-4ef6-89a0-7c0cef964622"
      },
      "execution_count": 25,
      "outputs": [
        {
          "output_type": "stream",
          "name": "stdout",
          "text": [
            "Model: \"sequential_1\"\n",
            "_________________________________________________________________\n",
            " Layer (type)                Output Shape              Param #   \n",
            "=================================================================\n",
            " vgg16 (Functional)          (None, 7, 7, 512)         14714688  \n",
            "                                                                 \n",
            " flatten (Flatten)           (None, 25088)             0         \n",
            "                                                                 \n",
            " dense (Dense)               (None, 256)               6422784   \n",
            "                                                                 \n",
            " dense_1 (Dense)             (None, 2)                 514       \n",
            "                                                                 \n",
            "=================================================================\n",
            "Total params: 21137986 (80.64 MB)\n",
            "Trainable params: 6423298 (24.50 MB)\n",
            "Non-trainable params: 14714688 (56.13 MB)\n",
            "_________________________________________________________________\n"
          ]
        }
      ]
    },
    {
      "cell_type": "code",
      "source": [
        "model.compile(\n",
        "    loss=\"categorical_crossentropy\",\n",
        "    optimizer= \"adam\",\n",
        "    metrics=[\"accuracy\"]\n",
        ")"
      ],
      "metadata": {
        "id": "g19Knkymoxbi"
      },
      "execution_count": 26,
      "outputs": []
    },
    {
      "cell_type": "code",
      "source": [
        "#image processing\n",
        "\n",
        "train_datagen=ImageDataGenerator(\n",
        "    rescale = 1./255,       #image augmentation\n",
        "    shear_range=0.2,\n",
        "    zoom_range=0.2,\n",
        "    horizontal_flip= True\n",
        ")\n",
        "\n",
        "test_datagen=ImageDataGenerator(rescale = 1./255)"
      ],
      "metadata": {
        "id": "0ZtgyMq6pLkS"
      },
      "execution_count": 28,
      "outputs": []
    },
    {
      "cell_type": "code",
      "source": [
        "#loading images\n",
        "\n",
        "training_set=train_datagen.flow_from_directory(\n",
        "    \"train\",\n",
        "    target_size=(224,224),\n",
        "    batch_size=32,\n",
        "    class_mode=\"categorical\"\n",
        "\n",
        ")\n",
        "\n"
      ],
      "metadata": {
        "colab": {
          "base_uri": "https://localhost:8080/"
        },
        "id": "zGz7LH5pqfMw",
        "outputId": "f6dfbfeb-9b62-4e0f-b6e8-24cb80725bd7"
      },
      "execution_count": 31,
      "outputs": [
        {
          "output_type": "stream",
          "name": "stdout",
          "text": [
            "Found 557 images belonging to 2 classes.\n"
          ]
        }
      ]
    },
    {
      "cell_type": "code",
      "source": [
        "\n",
        "test_set=test_datagen.flow_from_directory(\n",
        "    \"validation\",\n",
        "    target_size=(224,224),\n",
        "    batch_size=32,\n",
        "    class_mode=\"categorical\"\n",
        "\n",
        ")"
      ],
      "metadata": {
        "colab": {
          "base_uri": "https://localhost:8080/"
        },
        "id": "it44MkfCrAOb",
        "outputId": "36c7ce85-7d0a-49e3-f5dd-7bc695c37125"
      },
      "execution_count": 34,
      "outputs": [
        {
          "output_type": "stream",
          "name": "stdout",
          "text": [
            "Found 140 images belonging to 2 classes.\n"
          ]
        }
      ]
    },
    {
      "cell_type": "code",
      "source": [
        "history=model.fit(\n",
        "    training_set,\n",
        "    validation_data=test_set,\n",
        "    epochs=50,\n",
        "    steps_per_epoch=len(training_set),\n",
        "    validation_steps=len(test_set)\n",
        ")"
      ],
      "metadata": {
        "colab": {
          "base_uri": "https://localhost:8080/"
        },
        "id": "x2McuVNQrVCW",
        "outputId": "d8765ac0-79b9-4853-c463-ec3ed44fdd3c"
      },
      "execution_count": 35,
      "outputs": [
        {
          "output_type": "stream",
          "name": "stdout",
          "text": [
            "Epoch 1/50\n",
            "18/18 [==============================] - 27s 963ms/step - loss: 1.9713 - accuracy: 0.5404 - val_loss: 0.5373 - val_accuracy: 0.7857\n",
            "Epoch 2/50\n",
            "18/18 [==============================] - 12s 693ms/step - loss: 0.4205 - accuracy: 0.8294 - val_loss: 0.4047 - val_accuracy: 0.8143\n",
            "Epoch 3/50\n",
            "18/18 [==============================] - 12s 716ms/step - loss: 0.2685 - accuracy: 0.8959 - val_loss: 0.3718 - val_accuracy: 0.8143\n",
            "Epoch 4/50\n",
            "18/18 [==============================] - 13s 705ms/step - loss: 0.2015 - accuracy: 0.9318 - val_loss: 0.3821 - val_accuracy: 0.8071\n",
            "Epoch 5/50\n",
            "18/18 [==============================] - 13s 699ms/step - loss: 0.1651 - accuracy: 0.9461 - val_loss: 0.3763 - val_accuracy: 0.8286\n",
            "Epoch 6/50\n",
            "18/18 [==============================] - 13s 715ms/step - loss: 0.1226 - accuracy: 0.9641 - val_loss: 0.3909 - val_accuracy: 0.8143\n",
            "Epoch 7/50\n",
            "18/18 [==============================] - 13s 699ms/step - loss: 0.1051 - accuracy: 0.9713 - val_loss: 0.3968 - val_accuracy: 0.8143\n",
            "Epoch 8/50\n",
            "18/18 [==============================] - 12s 693ms/step - loss: 0.0816 - accuracy: 0.9856 - val_loss: 0.4329 - val_accuracy: 0.8286\n",
            "Epoch 9/50\n",
            "18/18 [==============================] - 13s 748ms/step - loss: 0.1021 - accuracy: 0.9623 - val_loss: 0.3890 - val_accuracy: 0.8071\n",
            "Epoch 10/50\n",
            "18/18 [==============================] - 13s 679ms/step - loss: 0.0654 - accuracy: 0.9803 - val_loss: 0.4091 - val_accuracy: 0.7929\n",
            "Epoch 11/50\n",
            "18/18 [==============================] - 13s 726ms/step - loss: 0.0453 - accuracy: 0.9892 - val_loss: 0.4720 - val_accuracy: 0.8143\n",
            "Epoch 12/50\n",
            "18/18 [==============================] - 12s 680ms/step - loss: 0.0521 - accuracy: 0.9838 - val_loss: 0.4544 - val_accuracy: 0.8143\n",
            "Epoch 13/50\n",
            "18/18 [==============================] - 12s 693ms/step - loss: 0.0477 - accuracy: 0.9856 - val_loss: 0.5230 - val_accuracy: 0.8000\n",
            "Epoch 14/50\n",
            "18/18 [==============================] - 13s 731ms/step - loss: 0.0346 - accuracy: 0.9910 - val_loss: 0.4949 - val_accuracy: 0.8357\n",
            "Epoch 15/50\n",
            "18/18 [==============================] - 13s 726ms/step - loss: 0.0315 - accuracy: 0.9910 - val_loss: 0.5577 - val_accuracy: 0.8000\n",
            "Epoch 16/50\n",
            "18/18 [==============================] - 12s 673ms/step - loss: 0.0330 - accuracy: 0.9946 - val_loss: 0.5029 - val_accuracy: 0.8214\n",
            "Epoch 17/50\n",
            "18/18 [==============================] - 14s 793ms/step - loss: 0.0211 - accuracy: 0.9964 - val_loss: 0.5501 - val_accuracy: 0.7857\n",
            "Epoch 18/50\n",
            "18/18 [==============================] - 13s 733ms/step - loss: 0.0274 - accuracy: 0.9946 - val_loss: 0.5031 - val_accuracy: 0.8000\n",
            "Epoch 19/50\n",
            "18/18 [==============================] - 15s 782ms/step - loss: 0.0139 - accuracy: 1.0000 - val_loss: 0.4883 - val_accuracy: 0.8071\n",
            "Epoch 20/50\n",
            "18/18 [==============================] - 22s 1s/step - loss: 0.0179 - accuracy: 0.9928 - val_loss: 0.4837 - val_accuracy: 0.8143\n",
            "Epoch 21/50\n",
            "18/18 [==============================] - 15s 812ms/step - loss: 0.0144 - accuracy: 0.9964 - val_loss: 0.5199 - val_accuracy: 0.7929\n",
            "Epoch 22/50\n",
            "18/18 [==============================] - 15s 762ms/step - loss: 0.0103 - accuracy: 1.0000 - val_loss: 0.5445 - val_accuracy: 0.7857\n",
            "Epoch 23/50\n",
            "18/18 [==============================] - 15s 846ms/step - loss: 0.0095 - accuracy: 1.0000 - val_loss: 0.5790 - val_accuracy: 0.7714\n",
            "Epoch 24/50\n",
            "18/18 [==============================] - 22s 1s/step - loss: 0.0082 - accuracy: 1.0000 - val_loss: 0.5308 - val_accuracy: 0.8071\n",
            "Epoch 25/50\n",
            "18/18 [==============================] - 18s 1s/step - loss: 0.0086 - accuracy: 1.0000 - val_loss: 0.5517 - val_accuracy: 0.8143\n",
            "Epoch 26/50\n",
            "18/18 [==============================] - 18s 984ms/step - loss: 0.0076 - accuracy: 0.9982 - val_loss: 0.5704 - val_accuracy: 0.8214\n",
            "Epoch 27/50\n",
            "18/18 [==============================] - 15s 834ms/step - loss: 0.0070 - accuracy: 1.0000 - val_loss: 0.7107 - val_accuracy: 0.7857\n",
            "Epoch 28/50\n",
            "18/18 [==============================] - 16s 891ms/step - loss: 0.0095 - accuracy: 0.9982 - val_loss: 0.5675 - val_accuracy: 0.8000\n",
            "Epoch 29/50\n",
            "18/18 [==============================] - 14s 756ms/step - loss: 0.0086 - accuracy: 0.9982 - val_loss: 0.5825 - val_accuracy: 0.8357\n",
            "Epoch 30/50\n",
            "18/18 [==============================] - 13s 712ms/step - loss: 0.0066 - accuracy: 1.0000 - val_loss: 0.5618 - val_accuracy: 0.8000\n",
            "Epoch 31/50\n",
            "18/18 [==============================] - 13s 701ms/step - loss: 0.0036 - accuracy: 1.0000 - val_loss: 0.5913 - val_accuracy: 0.7929\n",
            "Epoch 32/50\n",
            "18/18 [==============================] - 13s 704ms/step - loss: 0.0084 - accuracy: 0.9982 - val_loss: 0.5804 - val_accuracy: 0.7857\n",
            "Epoch 33/50\n",
            "18/18 [==============================] - 13s 719ms/step - loss: 0.0037 - accuracy: 1.0000 - val_loss: 0.5911 - val_accuracy: 0.7929\n",
            "Epoch 34/50\n",
            "18/18 [==============================] - 13s 713ms/step - loss: 0.0059 - accuracy: 1.0000 - val_loss: 0.5850 - val_accuracy: 0.8214\n",
            "Epoch 35/50\n",
            "18/18 [==============================] - 18s 942ms/step - loss: 0.0049 - accuracy: 1.0000 - val_loss: 0.5864 - val_accuracy: 0.8000\n",
            "Epoch 36/50\n",
            "18/18 [==============================] - 14s 796ms/step - loss: 0.0024 - accuracy: 1.0000 - val_loss: 0.5870 - val_accuracy: 0.8071\n",
            "Epoch 37/50\n",
            "18/18 [==============================] - 16s 899ms/step - loss: 0.0025 - accuracy: 1.0000 - val_loss: 0.6121 - val_accuracy: 0.8071\n",
            "Epoch 38/50\n",
            "18/18 [==============================] - 13s 736ms/step - loss: 0.0023 - accuracy: 1.0000 - val_loss: 0.5919 - val_accuracy: 0.8214\n",
            "Epoch 39/50\n",
            "18/18 [==============================] - 16s 888ms/step - loss: 0.0032 - accuracy: 1.0000 - val_loss: 0.6390 - val_accuracy: 0.8071\n",
            "Epoch 40/50\n",
            "18/18 [==============================] - 13s 743ms/step - loss: 0.0037 - accuracy: 1.0000 - val_loss: 0.6357 - val_accuracy: 0.8000\n",
            "Epoch 41/50\n",
            "18/18 [==============================] - 13s 733ms/step - loss: 0.0074 - accuracy: 0.9982 - val_loss: 0.7184 - val_accuracy: 0.8214\n",
            "Epoch 42/50\n",
            "18/18 [==============================] - 13s 693ms/step - loss: 0.0025 - accuracy: 1.0000 - val_loss: 0.6687 - val_accuracy: 0.7857\n",
            "Epoch 43/50\n",
            "18/18 [==============================] - 13s 717ms/step - loss: 0.0073 - accuracy: 1.0000 - val_loss: 0.6467 - val_accuracy: 0.8071\n",
            "Epoch 44/50\n",
            "18/18 [==============================] - 13s 696ms/step - loss: 0.0145 - accuracy: 0.9928 - val_loss: 0.6781 - val_accuracy: 0.8214\n",
            "Epoch 45/50\n",
            "18/18 [==============================] - 13s 719ms/step - loss: 0.0054 - accuracy: 1.0000 - val_loss: 0.6699 - val_accuracy: 0.8143\n",
            "Epoch 46/50\n",
            "18/18 [==============================] - 13s 710ms/step - loss: 0.0038 - accuracy: 1.0000 - val_loss: 0.6968 - val_accuracy: 0.8000\n",
            "Epoch 47/50\n",
            "18/18 [==============================] - 13s 734ms/step - loss: 0.0022 - accuracy: 1.0000 - val_loss: 0.7214 - val_accuracy: 0.8000\n",
            "Epoch 48/50\n",
            "18/18 [==============================] - 13s 743ms/step - loss: 0.0025 - accuracy: 1.0000 - val_loss: 0.7159 - val_accuracy: 0.8143\n",
            "Epoch 49/50\n",
            "18/18 [==============================] - 13s 711ms/step - loss: 0.0013 - accuracy: 1.0000 - val_loss: 0.7401 - val_accuracy: 0.8000\n",
            "Epoch 50/50\n",
            "18/18 [==============================] - 13s 705ms/step - loss: 0.0040 - accuracy: 0.9982 - val_loss: 0.7402 - val_accuracy: 0.8071\n"
          ]
        }
      ]
    },
    {
      "cell_type": "code",
      "source": [
        "history.history"
      ],
      "metadata": {
        "colab": {
          "base_uri": "https://localhost:8080/"
        },
        "id": "Gv0eYnuItZAb",
        "outputId": "09e480f6-0ee1-4ede-b3f3-74c92b429915"
      },
      "execution_count": 37,
      "outputs": [
        {
          "output_type": "execute_result",
          "data": {
            "text/plain": [
              "{'loss': [1.9713014364242554,\n",
              "  0.4204804301261902,\n",
              "  0.2685401439666748,\n",
              "  0.20149503648281097,\n",
              "  0.16506606340408325,\n",
              "  0.12259066104888916,\n",
              "  0.10511933267116547,\n",
              "  0.08163563162088394,\n",
              "  0.10206165909767151,\n",
              "  0.06538263708353043,\n",
              "  0.04529900848865509,\n",
              "  0.05208495631814003,\n",
              "  0.047680485993623734,\n",
              "  0.034588757902383804,\n",
              "  0.03150523826479912,\n",
              "  0.0329723097383976,\n",
              "  0.021148720756173134,\n",
              "  0.027367284521460533,\n",
              "  0.013940921053290367,\n",
              "  0.017899449914693832,\n",
              "  0.014373150654137135,\n",
              "  0.010317076928913593,\n",
              "  0.009526235051453114,\n",
              "  0.008166228421032429,\n",
              "  0.008616774342954159,\n",
              "  0.007628485560417175,\n",
              "  0.006986647844314575,\n",
              "  0.009473992511630058,\n",
              "  0.008584045805037022,\n",
              "  0.006574857514351606,\n",
              "  0.003598799929022789,\n",
              "  0.008447053842246532,\n",
              "  0.003720012027770281,\n",
              "  0.005899101961404085,\n",
              "  0.00486154668033123,\n",
              "  0.002410395536571741,\n",
              "  0.0025074793957173824,\n",
              "  0.0022806632332503796,\n",
              "  0.003215053118765354,\n",
              "  0.0036871442571282387,\n",
              "  0.00737501448020339,\n",
              "  0.0024607127998024225,\n",
              "  0.007285760249942541,\n",
              "  0.014456993900239468,\n",
              "  0.005425207782536745,\n",
              "  0.0037654053885489702,\n",
              "  0.0021934485994279385,\n",
              "  0.002549055265262723,\n",
              "  0.0013398395385593176,\n",
              "  0.004020052962005138],\n",
              " 'accuracy': [0.5403949618339539,\n",
              "  0.8294434547424316,\n",
              "  0.8958707451820374,\n",
              "  0.9317773580551147,\n",
              "  0.9461400508880615,\n",
              "  0.9640933275222778,\n",
              "  0.9712746739387512,\n",
              "  0.985637366771698,\n",
              "  0.9622980356216431,\n",
              "  0.9802513718605042,\n",
              "  0.9892280101776123,\n",
              "  0.9838420152664185,\n",
              "  0.985637366771698,\n",
              "  0.9910233616828918,\n",
              "  0.9910233616828918,\n",
              "  0.9946140050888062,\n",
              "  0.9964093565940857,\n",
              "  0.9946140050888062,\n",
              "  1.0,\n",
              "  0.9928186535835266,\n",
              "  0.9964093565940857,\n",
              "  1.0,\n",
              "  1.0,\n",
              "  1.0,\n",
              "  1.0,\n",
              "  0.9982046484947205,\n",
              "  1.0,\n",
              "  0.9982046484947205,\n",
              "  0.9982046484947205,\n",
              "  1.0,\n",
              "  1.0,\n",
              "  0.9982046484947205,\n",
              "  1.0,\n",
              "  1.0,\n",
              "  1.0,\n",
              "  1.0,\n",
              "  1.0,\n",
              "  1.0,\n",
              "  1.0,\n",
              "  1.0,\n",
              "  0.9982046484947205,\n",
              "  1.0,\n",
              "  1.0,\n",
              "  0.9928186535835266,\n",
              "  1.0,\n",
              "  1.0,\n",
              "  1.0,\n",
              "  1.0,\n",
              "  1.0,\n",
              "  0.9982046484947205],\n",
              " 'val_loss': [0.5373075008392334,\n",
              "  0.40469124913215637,\n",
              "  0.3718240261077881,\n",
              "  0.3821345865726471,\n",
              "  0.37631258368492126,\n",
              "  0.3909398913383484,\n",
              "  0.3967801630496979,\n",
              "  0.43287965655326843,\n",
              "  0.38896360993385315,\n",
              "  0.4091114103794098,\n",
              "  0.4719564616680145,\n",
              "  0.45443791151046753,\n",
              "  0.5230147838592529,\n",
              "  0.4948502779006958,\n",
              "  0.5576857328414917,\n",
              "  0.502851128578186,\n",
              "  0.550113320350647,\n",
              "  0.5031499862670898,\n",
              "  0.48829689621925354,\n",
              "  0.48373839259147644,\n",
              "  0.5198634266853333,\n",
              "  0.5444900393486023,\n",
              "  0.5789934992790222,\n",
              "  0.5308237671852112,\n",
              "  0.5517376661300659,\n",
              "  0.5704132318496704,\n",
              "  0.7106663584709167,\n",
              "  0.5675310492515564,\n",
              "  0.5824747085571289,\n",
              "  0.5617812871932983,\n",
              "  0.5912656784057617,\n",
              "  0.5804300308227539,\n",
              "  0.5910577178001404,\n",
              "  0.5850125551223755,\n",
              "  0.5863956809043884,\n",
              "  0.5869507789611816,\n",
              "  0.6121383905410767,\n",
              "  0.5919403433799744,\n",
              "  0.6389975547790527,\n",
              "  0.6357043981552124,\n",
              "  0.71836918592453,\n",
              "  0.6686855554580688,\n",
              "  0.6466866731643677,\n",
              "  0.6781027913093567,\n",
              "  0.6699476838111877,\n",
              "  0.6967752575874329,\n",
              "  0.7214123606681824,\n",
              "  0.7159455418586731,\n",
              "  0.7401320338249207,\n",
              "  0.7402378916740417],\n",
              " 'val_accuracy': [0.7857142686843872,\n",
              "  0.8142856955528259,\n",
              "  0.8142856955528259,\n",
              "  0.8071428537368774,\n",
              "  0.8285714387893677,\n",
              "  0.8142856955528259,\n",
              "  0.8142856955528259,\n",
              "  0.8285714387893677,\n",
              "  0.8071428537368774,\n",
              "  0.7928571701049805,\n",
              "  0.8142856955528259,\n",
              "  0.8142856955528259,\n",
              "  0.800000011920929,\n",
              "  0.8357142806053162,\n",
              "  0.800000011920929,\n",
              "  0.8214285969734192,\n",
              "  0.7857142686843872,\n",
              "  0.800000011920929,\n",
              "  0.8071428537368774,\n",
              "  0.8142856955528259,\n",
              "  0.7928571701049805,\n",
              "  0.7857142686843872,\n",
              "  0.7714285850524902,\n",
              "  0.8071428537368774,\n",
              "  0.8142856955528259,\n",
              "  0.8214285969734192,\n",
              "  0.7857142686843872,\n",
              "  0.800000011920929,\n",
              "  0.8357142806053162,\n",
              "  0.800000011920929,\n",
              "  0.7928571701049805,\n",
              "  0.7857142686843872,\n",
              "  0.7928571701049805,\n",
              "  0.8214285969734192,\n",
              "  0.800000011920929,\n",
              "  0.8071428537368774,\n",
              "  0.8071428537368774,\n",
              "  0.8214285969734192,\n",
              "  0.8071428537368774,\n",
              "  0.800000011920929,\n",
              "  0.8214285969734192,\n",
              "  0.7857142686843872,\n",
              "  0.8071428537368774,\n",
              "  0.8214285969734192,\n",
              "  0.8142856955528259,\n",
              "  0.800000011920929,\n",
              "  0.800000011920929,\n",
              "  0.8142856955528259,\n",
              "  0.800000011920929,\n",
              "  0.8071428537368774]}"
            ]
          },
          "metadata": {},
          "execution_count": 37
        }
      ]
    },
    {
      "cell_type": "code",
      "source": [
        "import matplotlib.pyplot as plt\n"
      ],
      "metadata": {
        "id": "2zmrSHQ9sHmY"
      },
      "execution_count": 36,
      "outputs": []
    },
    {
      "cell_type": "code",
      "source": [
        "plt.plot(history.history[\"loss\"], label=\"train loss\")\n",
        "plt.plot(history.history[\"val_loss\"], label=\"val loss\")\n",
        "plt.legend()\n",
        "plt.show()\n",
        "plt.savefig(\"Loss graph\")"
      ],
      "metadata": {
        "colab": {
          "base_uri": "https://localhost:8080/",
          "height": 448
        },
        "id": "iX7eqABDtLjy",
        "outputId": "920ea0e2-f182-4f78-fbcc-8ef9544275c8"
      },
      "execution_count": 39,
      "outputs": [
        {
          "output_type": "display_data",
          "data": {
            "text/plain": [
              "<Figure size 640x480 with 1 Axes>"
            ],
            "image/png": "[encoded data removed]"
          },
          "metadata": {}
        },
        {
          "output_type": "display_data",
          "data": {
            "text/plain": [
              "<Figure size 640x480 with 0 Axes>"
            ]
          },
          "metadata": {}
        }
      ]
    },
    {
      "cell_type": "code",
      "source": [
        "plt.plot(history.history[\"accuracy\"], label=\"train accuracy\")\n",
        "plt.plot(history.history[\"val_accuracy\"], label=\"val accuracy\")\n",
        "plt.legend()\n",
        "plt.show()\n",
        "plt.savefig(\"accuracy graph\")"
      ],
      "metadata": {
        "colab": {
          "base_uri": "https://localhost:8080/",
          "height": 448
        },
        "id": "YWeW2slZt468",
        "outputId": "56bc6f76-f064-4a8e-ade0-f731ea4ec2eb"
      },
      "execution_count": 40,
      "outputs": [
        {
          "output_type": "display_data",
          "data": {
            "text/plain": [
              "<Figure size 640x480 with 1 Axes>"
            ],
            "image/png": "[encoded data removed]"
          },
          "metadata": {}
        },
        {
          "output_type": "display_data",
          "data": {
            "text/plain": [
              "<Figure size 640x480 with 0 Axes>"
            ]
          },
          "metadata": {}
        }
      ]
    },
    {
      "cell_type": "code",
      "source": [
        "## save model\n",
        "\n",
        "model.save(\"model_vgg16.h5\")"
      ],
      "metadata": {
        "colab": {
          "base_uri": "https://localhost:8080/"
        },
        "id": "H25K1xrXuZ6v",
        "outputId": "d8a49445-d9ff-4400-c155-ecb5437ecb70"
      },
      "execution_count": 41,
      "outputs": [
        {
          "output_type": "stream",
          "name": "stderr",
          "text": [
            "/usr/local/lib/python3.10/dist-packages/keras/src/engine/training.py:3103: UserWarning: You are saving your model as an HDF5 file via `model.save()`. This file format is considered legacy. We recommend using instead the native Keras format, e.g. `model.save('my_model.keras')`.\n",
            "  saving_api.save_model(\n"
          ]
        }
      ]
    },
    {
      "cell_type": "code",
      "source": [
        "#load model\n",
        "\n",
        "from tensorflow.keras.models import load_model\n",
        "\n",
        "model=load_model(\"model_vgg16.h5\")\n"
      ],
      "metadata": {
        "id": "qVQLY1m8unZe"
      },
      "execution_count": 42,
      "outputs": []
    },
    {
      "cell_type": "code",
      "source": [
        "y_pred=model.predict(test_set)"
      ],
      "metadata": {
        "colab": {
          "base_uri": "https://localhost:8080/"
        },
        "id": "rw9lL-Iev_97",
        "outputId": "82036711-c9a7-4052-d0c1-836b7c2fed57"
      },
      "execution_count": 43,
      "outputs": [
        {
          "output_type": "stream",
          "name": "stdout",
          "text": [
            "5/5 [==============================] - 2s 236ms/step\n"
          ]
        }
      ]
    },
    {
      "cell_type": "code",
      "source": [
        "y_pred"
      ],
      "metadata": {
        "colab": {
          "base_uri": "https://localhost:8080/"
        },
        "id": "FcgTotL_wFdh",
        "outputId": "78e61891-9a22-4061-c12a-2c429434c193"
      },
      "execution_count": 44,
      "outputs": [
        {
          "output_type": "execute_result",
          "data": {
            "text/plain": [
              "array([[9.52321947e-01, 4.76780087e-02],\n",
              "       [3.42848226e-02, 9.65715230e-01],\n",
              "       [9.99999166e-01, 8.49850380e-07],\n",
              "       [2.87503796e-03, 9.97124970e-01],\n",
              "       [9.99719918e-01, 2.80119391e-04],\n",
              "       [4.03034985e-02, 9.59696472e-01],\n",
              "       [6.71031415e-01, 3.28968585e-01],\n",
              "       [9.32677448e-01, 6.73225448e-02],\n",
              "       [1.89774039e-06, 9.99998093e-01],\n",
              "       [7.78966935e-09, 1.00000000e+00],\n",
              "       [9.99686360e-01, 3.13715747e-04],\n",
              "       [9.93856609e-01, 6.14335947e-03],\n",
              "       [9.91786182e-01, 8.21381807e-03],\n",
              "       [1.18540390e-06, 9.99998808e-01],\n",
              "       [2.92051467e-08, 1.00000000e+00],\n",
              "       [9.99999881e-01, 9.35631164e-08],\n",
              "       [2.77764548e-06, 9.99997258e-01],\n",
              "       [1.61364136e-04, 9.99838591e-01],\n",
              "       [5.26473708e-02, 9.47352648e-01],\n",
              "       [2.42367779e-08, 1.00000000e+00],\n",
              "       [6.58464924e-05, 9.99934196e-01],\n",
              "       [7.54369484e-11, 1.00000000e+00],\n",
              "       [9.99997735e-01, 2.28757244e-06],\n",
              "       [6.65324330e-01, 3.34675670e-01],\n",
              "       [2.37438044e-07, 9.99999762e-01],\n",
              "       [9.99999404e-01, 6.23087033e-07],\n",
              "       [1.95788616e-05, 9.99980450e-01],\n",
              "       [1.71305736e-09, 1.00000000e+00],\n",
              "       [2.54605323e-01, 7.45394647e-01],\n",
              "       [1.10672764e-01, 8.89327288e-01],\n",
              "       [9.99831438e-01, 1.68490093e-04],\n",
              "       [2.75169015e-01, 7.24830985e-01],\n",
              "       [1.01197271e-04, 9.99898791e-01],\n",
              "       [9.95665729e-01, 4.33425419e-03],\n",
              "       [9.66028512e-01, 3.39714736e-02],\n",
              "       [1.80301145e-02, 9.81969833e-01],\n",
              "       [1.00000000e+00, 9.84289206e-10],\n",
              "       [1.21924552e-06, 9.99998808e-01],\n",
              "       [9.99979019e-01, 2.09316513e-05],\n",
              "       [9.74407494e-01, 2.55925078e-02],\n",
              "       [9.99965429e-01, 3.45327062e-05],\n",
              "       [2.22446758e-07, 9.99999762e-01],\n",
              "       [6.85672820e-01, 3.14327151e-01],\n",
              "       [9.93063790e-04, 9.99006927e-01],\n",
              "       [1.94722190e-01, 8.05277824e-01],\n",
              "       [9.93495822e-01, 6.50421157e-03],\n",
              "       [1.87126193e-02, 9.81287420e-01],\n",
              "       [9.97086346e-01, 2.91371578e-03],\n",
              "       [5.87943759e-07, 9.99999404e-01],\n",
              "       [1.09924781e-06, 9.99998927e-01],\n",
              "       [9.99435008e-01, 5.65001799e-04],\n",
              "       [1.86534256e-01, 8.13465714e-01],\n",
              "       [7.62013674e-01, 2.37986341e-01],\n",
              "       [1.30831846e-03, 9.98691738e-01],\n",
              "       [9.98992860e-01, 1.00715982e-03],\n",
              "       [3.06386809e-08, 1.00000000e+00],\n",
              "       [1.34136790e-05, 9.99986529e-01],\n",
              "       [1.00294728e-05, 9.99989986e-01],\n",
              "       [3.94888812e-05, 9.99960542e-01],\n",
              "       [9.70731795e-01, 2.92681828e-02],\n",
              "       [9.99991536e-01, 8.42176360e-06],\n",
              "       [1.00000000e+00, 5.83741777e-10],\n",
              "       [9.99994040e-01, 5.95159645e-06],\n",
              "       [2.80979549e-07, 9.99999762e-01],\n",
              "       [9.99998927e-01, 1.08108020e-06],\n",
              "       [8.26779939e-03, 9.91732121e-01],\n",
              "       [9.99996901e-01, 3.07642836e-06],\n",
              "       [9.99999762e-01, 2.06451347e-07],\n",
              "       [7.98202991e-01, 2.01797053e-01],\n",
              "       [3.41607415e-06, 9.99996543e-01],\n",
              "       [4.32680565e-04, 9.99567330e-01],\n",
              "       [9.92265761e-01, 7.73425819e-03],\n",
              "       [9.90267575e-01, 9.73246899e-03],\n",
              "       [9.99996662e-01, 3.35192544e-06],\n",
              "       [1.06135063e-04, 9.99893904e-01],\n",
              "       [2.92598128e-01, 7.07401872e-01],\n",
              "       [7.39305556e-01, 2.60694444e-01],\n",
              "       [1.20469158e-04, 9.99879479e-01],\n",
              "       [9.99993563e-01, 6.42486839e-06],\n",
              "       [9.65205073e-01, 3.47949602e-02],\n",
              "       [3.58624277e-08, 1.00000000e+00],\n",
              "       [5.62018045e-07, 9.99999404e-01],\n",
              "       [3.04980818e-02, 9.69501972e-01],\n",
              "       [9.99999881e-01, 1.18179031e-07],\n",
              "       [9.74470556e-01, 2.55294889e-02],\n",
              "       [1.14027467e-02, 9.88597333e-01],\n",
              "       [9.44902360e-01, 5.50976545e-02],\n",
              "       [5.47003970e-02, 9.45299625e-01],\n",
              "       [7.78855247e-05, 9.99922156e-01],\n",
              "       [9.93988991e-01, 6.01096731e-03],\n",
              "       [9.98656034e-01, 1.34397438e-03],\n",
              "       [1.43283000e-02, 9.85671639e-01],\n",
              "       [4.83765987e-08, 1.00000000e+00],\n",
              "       [3.50219520e-10, 1.00000000e+00],\n",
              "       [4.07945918e-04, 9.99592125e-01],\n",
              "       [9.99336064e-01, 6.63856685e-04],\n",
              "       [9.99979138e-01, 2.08540878e-05],\n",
              "       [1.75398071e-07, 9.99999881e-01],\n",
              "       [1.03941984e-01, 8.96057963e-01],\n",
              "       [2.61796316e-07, 9.99999762e-01],\n",
              "       [6.72798919e-08, 9.99999881e-01],\n",
              "       [9.99691844e-01, 3.08238727e-04],\n",
              "       [8.78295183e-01, 1.21704757e-01],\n",
              "       [1.06132384e-05, 9.99989390e-01],\n",
              "       [1.61435157e-02, 9.83856440e-01],\n",
              "       [8.23138363e-11, 1.00000000e+00],\n",
              "       [1.00000000e+00, 2.02004724e-08],\n",
              "       [1.00000000e+00, 2.58636206e-08],\n",
              "       [6.39724135e-01, 3.60275894e-01],\n",
              "       [8.85784328e-01, 1.14215620e-01],\n",
              "       [7.36205311e-06, 9.99992609e-01],\n",
              "       [2.76134837e-10, 1.00000000e+00],\n",
              "       [1.27276682e-04, 9.99872684e-01],\n",
              "       [5.06254360e-02, 9.49374557e-01],\n",
              "       [4.79121506e-01, 5.20878553e-01],\n",
              "       [8.20187032e-01, 1.79812968e-01],\n",
              "       [4.08842915e-08, 1.00000000e+00],\n",
              "       [2.73439854e-10, 1.00000000e+00],\n",
              "       [1.14869181e-06, 9.99998808e-01],\n",
              "       [3.01732598e-07, 9.99999642e-01],\n",
              "       [9.99999285e-01, 7.68194070e-07],\n",
              "       [3.96115720e-01, 6.03884220e-01],\n",
              "       [7.66212871e-10, 1.00000000e+00],\n",
              "       [3.74538958e-01, 6.25461042e-01],\n",
              "       [9.99999881e-01, 1.40488908e-07],\n",
              "       [9.99715269e-01, 2.84715235e-04],\n",
              "       [5.79969026e-07, 9.99999404e-01],\n",
              "       [9.06608626e-03, 9.90933895e-01],\n",
              "       [1.03192906e-06, 9.99998927e-01],\n",
              "       [1.51235611e-07, 9.99999881e-01],\n",
              "       [3.27055372e-04, 9.99673009e-01],\n",
              "       [5.52689612e-01, 4.47310358e-01],\n",
              "       [1.00000000e+00, 9.96943061e-09],\n",
              "       [1.00000000e+00, 1.44868145e-10],\n",
              "       [9.99772251e-01, 2.27773620e-04],\n",
              "       [9.99995947e-01, 4.02867272e-06],\n",
              "       [2.86386162e-01, 7.13613868e-01],\n",
              "       [7.64191866e-01, 2.35808134e-01],\n",
              "       [6.99795306e-01, 3.00204724e-01],\n",
              "       [4.06494411e-03, 9.95935082e-01]], dtype=float32)"
            ]
          },
          "metadata": {},
          "execution_count": 44
        }
      ]
    },
    {
      "cell_type": "code",
      "source": [
        "y_pred=np.argmax(y_pred, axis=1)"
      ],
      "metadata": {
        "id": "UrWRdnIewJeS"
      },
      "execution_count": 45,
      "outputs": []
    },
    {
      "cell_type": "code",
      "source": [
        "y_pred #alphbetical order 0,1,2,3,4"
      ],
      "metadata": {
        "colab": {
          "base_uri": "https://localhost:8080/"
        },
        "id": "SnPGGxs9wTtG",
        "outputId": "4cea5372-d131-4bb7-d9d9-23203f620e9d"
      },
      "execution_count": 46,
      "outputs": [
        {
          "output_type": "execute_result",
          "data": {
            "text/plain": [
              "array([0, 1, 0, 1, 0, 1, 0, 0, 1, 1, 0, 0, 0, 1, 1, 0, 1, 1, 1, 1, 1, 1,\n",
              "       0, 0, 1, 0, 1, 1, 1, 1, 0, 1, 1, 0, 0, 1, 0, 1, 0, 0, 0, 1, 0, 1,\n",
              "       1, 0, 1, 0, 1, 1, 0, 1, 0, 1, 0, 1, 1, 1, 1, 0, 0, 0, 0, 1, 0, 1,\n",
              "       0, 0, 0, 1, 1, 0, 0, 0, 1, 1, 0, 1, 0, 0, 1, 1, 1, 0, 0, 1, 0, 1,\n",
              "       1, 0, 0, 1, 1, 1, 1, 0, 0, 1, 1, 1, 1, 0, 0, 1, 1, 1, 0, 0, 0, 0,\n",
              "       1, 1, 1, 1, 1, 0, 1, 1, 1, 1, 0, 1, 1, 1, 0, 0, 1, 1, 1, 1, 1, 0,\n",
              "       0, 0, 0, 0, 1, 0, 0, 1])"
            ]
          },
          "metadata": {},
          "execution_count": 46
        }
      ]
    },
    {
      "cell_type": "code",
      "source": [
        "%ls"
      ],
      "metadata": {
        "colab": {
          "base_uri": "https://localhost:8080/"
        },
        "id": "gNJCEDm4xYka",
        "outputId": "adf37409-bc32-4fb3-cafe-c2d56cdf04de"
      },
      "execution_count": 47,
      "outputs": [
        {
          "output_type": "stream",
          "name": "stdout",
          "text": [
            "'accuracy graph.png'   cat_399.jpg   dog_92.jpg        model_vgg16.h5   \u001b[0m\u001b[01;34mvalidation\u001b[0m/\n",
            " cat_170.jpg           dog_558.jpg  'Loss graph.png'   \u001b[01;34mtrain\u001b[0m/\n"
          ]
        }
      ]
    },
    {
      "cell_type": "code",
      "source": [
        "#load test image\n",
        "\n",
        "image_name=\"cat_399.jpg\""
      ],
      "metadata": {
        "id": "wN3D-O0PwUqe"
      },
      "execution_count": 87,
      "outputs": []
    },
    {
      "cell_type": "code",
      "source": [
        "img=image.load_img(image_name, target_size=(224,224))\n"
      ],
      "metadata": {
        "id": "8nxrgrMoxfVC"
      },
      "execution_count": 88,
      "outputs": []
    },
    {
      "cell_type": "code",
      "source": [
        "x=image.img_to_array(img)"
      ],
      "metadata": {
        "id": "duB_qdeoxrrk"
      },
      "execution_count": 89,
      "outputs": []
    },
    {
      "cell_type": "code",
      "source": [
        "Z=plt.imread(image_name)\n",
        "plt.imshow(Z)"
      ],
      "metadata": {
        "colab": {
          "base_uri": "https://localhost:8080/",
          "height": 452
        },
        "id": "NbiYPQSAxzjm",
        "outputId": "38d4a924-ac2f-4e0f-db8d-2b1491ec9206"
      },
      "execution_count": 90,
      "outputs": [
        {
          "output_type": "execute_result",
          "data": {
            "text/plain": [
              "<matplotlib.image.AxesImage at 0x7b37c8247e50>"
            ]
          },
          "metadata": {},
          "execution_count": 90
        },
        {
          "output_type": "display_data",
          "data": {
            "text/plain": [
              "<Figure size 640x480 with 1 Axes>"
            ],
            "image/png": "[encoded data removed]"
          },
          "metadata": {}
        }
      ]
    },
    {
      "cell_type": "code",
      "source": [
        "x.shape"
      ],
      "metadata": {
        "colab": {
          "base_uri": "https://localhost:8080/"
        },
        "id": "VOmacGDoyJCY",
        "outputId": "a1a4d501-c1c2-40ac-b5eb-8076e8dbc128"
      },
      "execution_count": 91,
      "outputs": [
        {
          "output_type": "execute_result",
          "data": {
            "text/plain": [
              "(224, 224, 3)"
            ]
          },
          "metadata": {},
          "execution_count": 91
        }
      ]
    },
    {
      "cell_type": "code",
      "source": [
        "x=x/255"
      ],
      "metadata": {
        "id": "V1T0Y5TUyNWS"
      },
      "execution_count": 92,
      "outputs": []
    },
    {
      "cell_type": "code",
      "source": [
        "from keras.applications.vgg16 import preprocess_input"
      ],
      "metadata": {
        "id": "8mdXn4r-yQ20"
      },
      "execution_count": 93,
      "outputs": []
    },
    {
      "cell_type": "code",
      "source": [
        "import numpy as np\n",
        "x=np.expand_dims(x,axis=0)\n",
        "img_data=preprocess_input(x)\n",
        "img_data.shape"
      ],
      "metadata": {
        "colab": {
          "base_uri": "https://localhost:8080/"
        },
        "id": "K6ohuoGCyX78",
        "outputId": "e95e79c2-1429-44df-f650-3d094ee3e36f"
      },
      "execution_count": 94,
      "outputs": [
        {
          "output_type": "execute_result",
          "data": {
            "text/plain": [
              "(1, 224, 224, 3)"
            ]
          },
          "metadata": {},
          "execution_count": 94
        }
      ]
    },
    {
      "cell_type": "code",
      "source": [
        "model.predict(img_data)"
      ],
      "metadata": {
        "colab": {
          "base_uri": "https://localhost:8080/"
        },
        "id": "0lOIaeDIyltm",
        "outputId": "fe921705-b22a-4453-f97a-a50045e28e0b"
      },
      "execution_count": 95,
      "outputs": [
        {
          "output_type": "stream",
          "name": "stdout",
          "text": [
            "1/1 [==============================] - 0s 20ms/step\n"
          ]
        },
        {
          "output_type": "execute_result",
          "data": {
            "text/plain": [
              "array([[0.9980336 , 0.00196645]], dtype=float32)"
            ]
          },
          "metadata": {},
          "execution_count": 95
        }
      ]
    },
    {
      "cell_type": "code",
      "source": [
        "result=np.argmax(model.predict(img_data), axis=1)"
      ],
      "metadata": {
        "colab": {
          "base_uri": "https://localhost:8080/"
        },
        "id": "-8p-Q7enystq",
        "outputId": "6ab246f7-a256-4a2b-b497-53ba5d71e97a"
      },
      "execution_count": 96,
      "outputs": [
        {
          "output_type": "stream",
          "name": "stdout",
          "text": [
            "1/1 [==============================] - 0s 32ms/step\n"
          ]
        }
      ]
    },
    {
      "cell_type": "code",
      "source": [
        "result"
      ],
      "metadata": {
        "colab": {
          "base_uri": "https://localhost:8080/"
        },
        "id": "_SfW22y-y5OX",
        "outputId": "85155d4f-7d35-4488-8ffe-3acfb0286ea1"
      },
      "execution_count": 97,
      "outputs": [
        {
          "output_type": "execute_result",
          "data": {
            "text/plain": [
              "array([0])"
            ]
          },
          "metadata": {},
          "execution_count": 97
        }
      ]
    },
    {
      "cell_type": "code",
      "source": [
        "if result[0]==1:\n",
        "  prediction=\"Dog\"\n",
        "  print(prediction)\n",
        "else:\n",
        "  prediction=\"Cat\"\n",
        "  print(prediction)"
      ],
      "metadata": {
        "colab": {
          "base_uri": "https://localhost:8080/"
        },
        "id": "mUuA86gky8KQ",
        "outputId": "84c9e9db-9531-4746-bad8-4aba223cadfa"
      },
      "execution_count": 98,
      "outputs": [
        {
          "output_type": "stream",
          "name": "stdout",
          "text": [
            "Cat\n"
          ]
        }
      ]
    },
    {
      "cell_type": "code",
      "source": [],
      "metadata": {
        "id": "R_wOydxIzKcZ"
      },
      "execution_count": null,
      "outputs": []
    }
  ]
}